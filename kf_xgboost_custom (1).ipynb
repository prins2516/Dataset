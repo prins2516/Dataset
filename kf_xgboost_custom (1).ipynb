{
 "cells": [
  {
   "cell_type": "code",
   "execution_count": 1,
   "id": "b23490e9-4515-4046-a527-e7521317eb9e",
   "metadata": {
    "tags": []
   },
   "outputs": [
    {
     "name": "stdout",
     "output_type": "stream",
     "text": [
      "Requirement already satisfied: kfp>2 in /opt/conda/lib/python3.10/site-packages (2.8.0)\n",
      "Requirement already satisfied: google-cloud-aiplatform in /opt/conda/lib/python3.10/site-packages (1.59.0)\n",
      "Requirement already satisfied: click<9,>=8.0.0 in /opt/conda/lib/python3.10/site-packages (from kfp>2) (8.1.7)\n",
      "Requirement already satisfied: docstring-parser<1,>=0.7.3 in /opt/conda/lib/python3.10/site-packages (from kfp>2) (0.16)\n",
      "Requirement already satisfied: google-api-core!=2.0.*,!=2.1.*,!=2.2.*,!=2.3.0,<3.0.0dev,>=1.31.5 in /opt/conda/lib/python3.10/site-packages (from kfp>2) (2.11.1)\n",
      "Requirement already satisfied: google-auth<3,>=1.6.1 in /opt/conda/lib/python3.10/site-packages (from kfp>2) (2.31.0)\n",
      "Requirement already satisfied: google-cloud-storage<3,>=2.2.1 in /opt/conda/lib/python3.10/site-packages (from kfp>2) (2.14.0)\n",
      "Requirement already satisfied: kfp-pipeline-spec==0.3.0 in /opt/conda/lib/python3.10/site-packages (from kfp>2) (0.3.0)\n",
      "Requirement already satisfied: kfp-server-api<2.1.0,>=2.0.0 in /opt/conda/lib/python3.10/site-packages (from kfp>2) (2.0.5)\n",
      "Requirement already satisfied: kubernetes<27,>=8.0.0 in /opt/conda/lib/python3.10/site-packages (from kfp>2) (26.1.0)\n",
      "Requirement already satisfied: protobuf<5,>=4.21.1 in /opt/conda/lib/python3.10/site-packages (from kfp>2) (4.25.3)\n",
      "Requirement already satisfied: PyYAML<7,>=5.3 in /opt/conda/lib/python3.10/site-packages (from kfp>2) (6.0.1)\n",
      "Requirement already satisfied: requests-toolbelt<1,>=0.8.0 in /opt/conda/lib/python3.10/site-packages (from kfp>2) (0.10.1)\n",
      "Requirement already satisfied: tabulate<1,>=0.8.6 in /opt/conda/lib/python3.10/site-packages (from kfp>2) (0.9.0)\n",
      "Requirement already satisfied: urllib3<2.0.0 in /opt/conda/lib/python3.10/site-packages (from kfp>2) (1.26.19)\n",
      "Requirement already satisfied: proto-plus<2.0.0dev,>=1.22.3 in /opt/conda/lib/python3.10/site-packages (from google-cloud-aiplatform) (1.24.0)\n",
      "Requirement already satisfied: packaging>=14.3 in /opt/conda/lib/python3.10/site-packages (from google-cloud-aiplatform) (24.1)\n",
      "Requirement already satisfied: google-cloud-bigquery!=3.20.0,<4.0.0dev,>=1.15.0 in /opt/conda/lib/python3.10/site-packages (from google-cloud-aiplatform) (3.25.0)\n",
      "Requirement already satisfied: google-cloud-resource-manager<3.0.0dev,>=1.3.3 in /opt/conda/lib/python3.10/site-packages (from google-cloud-aiplatform) (1.12.3)\n",
      "Requirement already satisfied: shapely<3.0.0dev in /opt/conda/lib/python3.10/site-packages (from google-cloud-aiplatform) (1.8.5.post1)\n",
      "Requirement already satisfied: pydantic<3 in /opt/conda/lib/python3.10/site-packages (from google-cloud-aiplatform) (1.10.17)\n",
      "Requirement already satisfied: googleapis-common-protos<2.0.dev0,>=1.56.2 in /opt/conda/lib/python3.10/site-packages (from google-api-core!=2.0.*,!=2.1.*,!=2.2.*,!=2.3.0,<3.0.0dev,>=1.31.5->kfp>2) (1.63.1)\n",
      "Requirement already satisfied: requests<3.0.0.dev0,>=2.18.0 in /opt/conda/lib/python3.10/site-packages (from google-api-core!=2.0.*,!=2.1.*,!=2.2.*,!=2.3.0,<3.0.0dev,>=1.31.5->kfp>2) (2.32.3)\n",
      "Requirement already satisfied: grpcio<2.0dev,>=1.33.2 in /opt/conda/lib/python3.10/site-packages (from google-api-core[grpc]!=2.0.*,!=2.1.*,!=2.2.*,!=2.3.*,!=2.4.*,!=2.5.*,!=2.6.*,!=2.7.*,<3.0.0dev,>=1.34.1->google-cloud-aiplatform) (1.48.0)\n",
      "Requirement already satisfied: grpcio-status<2.0.dev0,>=1.33.2 in /opt/conda/lib/python3.10/site-packages (from google-api-core[grpc]!=2.0.*,!=2.1.*,!=2.2.*,!=2.3.*,!=2.4.*,!=2.5.*,!=2.6.*,!=2.7.*,<3.0.0dev,>=1.34.1->google-cloud-aiplatform) (1.48.0)\n",
      "Requirement already satisfied: cachetools<6.0,>=2.0.0 in /opt/conda/lib/python3.10/site-packages (from google-auth<3,>=1.6.1->kfp>2) (4.2.4)\n",
      "Requirement already satisfied: pyasn1-modules>=0.2.1 in /opt/conda/lib/python3.10/site-packages (from google-auth<3,>=1.6.1->kfp>2) (0.4.0)\n",
      "Requirement already satisfied: rsa<5,>=3.1.4 in /opt/conda/lib/python3.10/site-packages (from google-auth<3,>=1.6.1->kfp>2) (4.9)\n",
      "Requirement already satisfied: google-cloud-core<3.0.0dev,>=1.6.0 in /opt/conda/lib/python3.10/site-packages (from google-cloud-bigquery!=3.20.0,<4.0.0dev,>=1.15.0->google-cloud-aiplatform) (2.4.1)\n",
      "Requirement already satisfied: google-resumable-media<3.0dev,>=0.6.0 in /opt/conda/lib/python3.10/site-packages (from google-cloud-bigquery!=3.20.0,<4.0.0dev,>=1.15.0->google-cloud-aiplatform) (2.7.1)\n",
      "Requirement already satisfied: python-dateutil<3.0dev,>=2.7.2 in /opt/conda/lib/python3.10/site-packages (from google-cloud-bigquery!=3.20.0,<4.0.0dev,>=1.15.0->google-cloud-aiplatform) (2.9.0)\n",
      "Requirement already satisfied: grpc-google-iam-v1<1.0.0dev,>=0.12.4 in /opt/conda/lib/python3.10/site-packages (from google-cloud-resource-manager<3.0.0dev,>=1.3.3->google-cloud-aiplatform) (0.12.7)\n",
      "Requirement already satisfied: google-crc32c<2.0dev,>=1.0 in /opt/conda/lib/python3.10/site-packages (from google-cloud-storage<3,>=2.2.1->kfp>2) (1.5.0)\n",
      "Requirement already satisfied: six>=1.10 in /opt/conda/lib/python3.10/site-packages (from kfp-server-api<2.1.0,>=2.0.0->kfp>2) (1.16.0)\n",
      "Requirement already satisfied: certifi in /opt/conda/lib/python3.10/site-packages (from kfp-server-api<2.1.0,>=2.0.0->kfp>2) (2024.7.4)\n",
      "Requirement already satisfied: setuptools>=21.0.0 in /opt/conda/lib/python3.10/site-packages (from kubernetes<27,>=8.0.0->kfp>2) (70.1.1)\n",
      "Requirement already satisfied: websocket-client!=0.40.0,!=0.41.*,!=0.42.*,>=0.32.0 in /opt/conda/lib/python3.10/site-packages (from kubernetes<27,>=8.0.0->kfp>2) (1.8.0)\n",
      "Requirement already satisfied: requests-oauthlib in /opt/conda/lib/python3.10/site-packages (from kubernetes<27,>=8.0.0->kfp>2) (2.0.0)\n",
      "Requirement already satisfied: typing-extensions>=4.2.0 in /opt/conda/lib/python3.10/site-packages (from pydantic<3->google-cloud-aiplatform) (4.12.2)\n",
      "Requirement already satisfied: pyasn1<0.7.0,>=0.4.6 in /opt/conda/lib/python3.10/site-packages (from pyasn1-modules>=0.2.1->google-auth<3,>=1.6.1->kfp>2) (0.6.0)\n",
      "Requirement already satisfied: charset-normalizer<4,>=2 in /opt/conda/lib/python3.10/site-packages (from requests<3.0.0.dev0,>=2.18.0->google-api-core!=2.0.*,!=2.1.*,!=2.2.*,!=2.3.0,<3.0.0dev,>=1.31.5->kfp>2) (3.3.2)\n",
      "Requirement already satisfied: idna<4,>=2.5 in /opt/conda/lib/python3.10/site-packages (from requests<3.0.0.dev0,>=2.18.0->google-api-core!=2.0.*,!=2.1.*,!=2.2.*,!=2.3.0,<3.0.0dev,>=1.31.5->kfp>2) (3.7)\n",
      "Requirement already satisfied: oauthlib>=3.0.0 in /opt/conda/lib/python3.10/site-packages (from requests-oauthlib->kubernetes<27,>=8.0.0->kfp>2) (3.2.2)\n"
     ]
    }
   ],
   "source": [
    "! pip3 install --no-cache-dir --upgrade \"kfp>2\" \\\n",
    "                                        google-cloud-aiplatform"
   ]
  },
  {
   "cell_type": "code",
   "execution_count": 1,
   "id": "a8bac28f-0923-4497-b434-f406909b23e6",
   "metadata": {
    "tags": []
   },
   "outputs": [],
   "source": [
    "import sys\n",
    "\n",
    "if \"google.colab\" in sys.modules:\n",
    "\n",
    "    import IPython\n",
    "\n",
    "    app = IPython.Application.instance()\n",
    "    app.kernel.do_shutdown(True)"
   ]
  },
  {
   "cell_type": "code",
   "execution_count": 2,
   "id": "9f5391a6-c2c8-45b7-a4b2-29553b957518",
   "metadata": {
    "tags": []
   },
   "outputs": [],
   "source": [
    "import sys\n",
    "\n",
    "if \"google.colab\" in sys.modules:\n",
    "\n",
    "    from google.colab import auth\n",
    "\n",
    "    auth.authenticate_user()"
   ]
  },
  {
   "cell_type": "code",
   "execution_count": 3,
   "id": "ad572e4f-3b0c-42ff-8145-65c3f8bb1f29",
   "metadata": {
    "tags": []
   },
   "outputs": [],
   "source": [
    "PROJECT_ID = \"henry-scien\"  # @param {type:\"string\"}\n",
    "LOCATION = \"us-central1\"\n",
    "BQ_LOCATION = LOCATION.split(\"-\")[0].upper()"
   ]
  },
  {
   "cell_type": "code",
   "execution_count": 4,
   "id": "f783d802-232a-4929-accf-f2d6beede8e2",
   "metadata": {
    "tags": []
   },
   "outputs": [],
   "source": [
    "BUCKET_URI = f\"gs://xgboost_new_-{PROJECT_ID}-unique-custom\"  "
   ]
  },
  {
   "cell_type": "code",
   "execution_count": 5,
   "id": "d422659e-5277-4bd5-975a-6c0f7cf0367c",
   "metadata": {
    "tags": []
   },
   "outputs": [
    {
     "name": "stdout",
     "output_type": "stream",
     "text": [
      "Creating gs://xgboost_new_-henry-scien-unique-custom/...\n"
     ]
    }
   ],
   "source": [
    "! gsutil mb -l $LOCATION -p $PROJECT_ID $BUCKET_URI"
   ]
  },
  {
   "cell_type": "code",
   "execution_count": 6,
   "id": "b2672d72-677c-4414-ade6-07ea5d2ba5fc",
   "metadata": {
    "tags": []
   },
   "outputs": [],
   "source": [
    "SERVICE_ACCOUNT = \"523981946985-compute@developer.gserviceaccount.com\" "
   ]
  },
  {
   "cell_type": "code",
   "execution_count": 7,
   "id": "381ea37b-24da-4d01-ae5c-1547de7f0f29",
   "metadata": {
    "tags": []
   },
   "outputs": [],
   "source": [
    "import sys\n",
    "\n",
    "IS_COLAB = \"google.colab\" in sys.modules\n",
    "if (\n",
    "    SERVICE_ACCOUNT == \"\"\n",
    "    or SERVICE_ACCOUNT is None\n",
    "    or SERVICE_ACCOUNT == \"[your-service-account]\"\n",
    "):\n",
    "    # Get your service account from gcloud\n",
    "    if not IS_COLAB:\n",
    "        shell_output = !gcloud auth list 2>/dev/null\n",
    "        SERVICE_ACCOUNT = shell_output[2].replace(\"*\", \"\").strip()\n",
    "\n",
    "    else:  # IS_COLAB:\n",
    "        shell_output = ! gcloud projects describe  $PROJECT_ID\n",
    "        project_number = shell_output[-1].split(\":\")[1].strip().replace(\"'\", \"\")\n",
    "        SERVICE_ACCOUNT = f\"{project_number}-compute@developer.gserviceaccount.com\"\n",
    "\n",
    "    print(\"Service Account:\", SERVICE_ACCOUNT)"
   ]
  },
  {
   "cell_type": "markdown",
   "id": "c83cf944-72f0-470c-b226-69bffadf4832",
   "metadata": {
    "tags": []
   },
   "source": [
    "#### Set service account access for Vertex AI Pipelines\n",
    "\n",
    "Run the following commands to grant your service account access to read and write pipeline artifacts in the bucket that you created in the previous step. You only need to run this step once per service account."
   ]
  },
  {
   "cell_type": "code",
   "execution_count": 8,
   "id": "d300c269-b7f9-435b-95b9-271c6d198c56",
   "metadata": {
    "tags": []
   },
   "outputs": [],
   "source": [
    "! gsutil iam ch serviceAccount:{SERVICE_ACCOUNT}:roles/storage.objectCreator $BUCKET_URI\n",
    "\n",
    "! gsutil iam ch serviceAccount:{SERVICE_ACCOUNT}:roles/storage.objectViewer $BUCKET_URI"
   ]
  },
  {
   "cell_type": "code",
   "execution_count": 9,
   "id": "5e74ee4d-58c4-43a0-be6b-8445a5fbc038",
   "metadata": {
    "tags": []
   },
   "outputs": [],
   "source": [
    "import google.cloud.aiplatform as aiplatform\n",
    "import kfp\n",
    "from kfp import compiler, dsl\n",
    "from kfp.dsl import Artifact, Dataset, Input, Metrics, Model, Output, component"
   ]
  },
  {
   "cell_type": "markdown",
   "id": "bf6139d5-5900-48fc-bc54-8aa76c969d54",
   "metadata": {},
   "source": [
    "## Initialize Vertex AI SDK for Python\n",
    "\n",
    "Initialize the Vertex AI SDK for Python for your project and corresponding bucket."
   ]
  },
  {
   "cell_type": "code",
   "execution_count": 10,
   "id": "f69f9def-ee88-437b-873f-c9ae92877bba",
   "metadata": {
    "tags": []
   },
   "outputs": [],
   "source": [
    "aiplatform.init(project=PROJECT_ID, staging_bucket=BUCKET_URI)"
   ]
  },
  {
   "cell_type": "code",
   "execution_count": 11,
   "id": "702a4631-9d02-4095-b513-3679129b322b",
   "metadata": {
    "tags": []
   },
   "outputs": [
    {
     "name": "stdout",
     "output_type": "stream",
     "text": [
      "env: PATH=/usr/local/cuda/bin:/opt/conda/bin:/opt/conda/condabin:/usr/local/bin:/usr/bin:/bin:/usr/local/games:/usr/games:/home/jupyter/.local/bin\n",
      "PIPELINE_ROOT: gs://xgboost_new_-henry-scien-unique-custom/diabetes_pipeline\n"
     ]
    }
   ],
   "source": [
    "PATH = %env PATH\n",
    "%env PATH={PATH}:/home/jupyter/.local/bin\n",
    "\n",
    "KFP_ENDPOINT = (\n",
    "    \"https://720c5bc00c3d6089-dot-us-central1.pipelines.googleusercontent.com/\"\n",
    ")\n",
    "\n",
    "PIPELINE_ROOT = f\"{BUCKET_URI}/diabetes_pipeline\"  # This is where all pipeline artifacts are sent. You'll need to ensure the bucket is created ahead of time\n",
    "PIPELINE_ROOT\n",
    "print(f\"PIPELINE_ROOT: {PIPELINE_ROOT}\")"
   ]
  },
  {
   "cell_type": "code",
   "execution_count": 12,
   "id": "9afb9b61-ddec-47d1-920f-512bf272cac6",
   "metadata": {
    "tags": []
   },
   "outputs": [
    {
     "name": "stderr",
     "output_type": "stream",
     "text": [
      "/opt/conda/lib/python3.10/site-packages/kfp/dsl/component_decorator.py:119: FutureWarning: The default base_image used by the @dsl.component decorator will switch from 'python:3.8' to 'python:3.9' on Oct 1, 2024. To ensure your existing components work with versions of the KFP SDK released after that date, you should provide an explicit base_image argument and ensure your component works as intended on Python 3.9.\n",
      "  return component_factory.create_component_from_func(\n"
     ]
    }
   ],
   "source": [
    "@component(\n",
    "    packages_to_install=[\"pandas\"]\n",
    ")\n",
    "\n",
    "def get_data(\n",
    "    url: str,\n",
    "    dataset: Output[Dataset],\n",
    "):\n",
    "    import pandas as pd\n",
    "    df = pd.read_csv(url)\n",
    "    df = df.dropna()\n",
    "    df.to_csv(dataset.path, index=False)"
   ]
  },
  {
   "cell_type": "code",
   "execution_count": 13,
   "id": "e19396e4-8ce8-4324-9af2-0d88eb1c7517",
   "metadata": {
    "tags": []
   },
   "outputs": [],
   "source": [
    "@component(\n",
    "    packages_to_install=[\n",
    "        \"xgboost==1.6.2\",\n",
    "        \"pandas==1.3.5\",\n",
    "        \"joblib==1.1.0\",\n",
    "        \"scikit-learn==1.0.2\",\n",
    "    ],\n",
    ")\n",
    "def xgboost_training(\n",
    "    dataset: Input[Dataset],\n",
    "    model: Output[Model],\n",
    "    metrics: Output[Metrics],\n",
    "):\n",
    "    import os\n",
    "    import joblib\n",
    "    import xgboost as xgb\n",
    "    import pandas as pd\n",
    "    from sklearn.model_selection import (RandomizedSearchCV, StratifiedKFold,\n",
    "                                         train_test_split)\n",
    "    from sklearn.metrics import (accuracy_score, precision_recall_curve,\n",
    "                                 roc_auc_score)\n",
    "    \n",
    "    # Load the training census dataset\n",
    "    with open(dataset.path, \"r\") as train_data:\n",
    "        raw_data = pd.read_csv(train_data)\n",
    "    \n",
    "    # Separate features and target\n",
    "    X = raw_data.drop(['Outcome'], axis=1)\n",
    "    y = raw_data['Outcome']\n",
    "    \n",
    "    X_train, X_test, y_train, y_test = train_test_split(X, y, test_size=0.3, random_state=42)\n",
    "    \n",
    "    xgbc = xgb.XGBClassifier(n_estimators=100, learning_rate=0.1, gamma=0, subsample=0.5,colsample_bytree=1, max_depth=8)\n",
    "\n",
    "    xgbc.fit(X_train,y_train)\n",
    "    \n",
    "    predictions =xgbc.predict(X_test)\n",
    "    score = accuracy_score(y_test, predictions)\n",
    "    auc = roc_auc_score(y_test, predictions)\n",
    "    _ = precision_recall_curve(y_test, predictions)\n",
    "\n",
    "    metrics.log_metric(\"accuracy\", (score * 100.0))\n",
    "    metrics.log_metric(\"framework\", \"xgboost\")\n",
    "    metrics.log_metric(\"dataset_size\", len(raw_data))\n",
    "    metrics.log_metric(\"AUC\", auc)\n",
    "\n",
    "    # Export the model to a file\n",
    "    os.makedirs(model.path, exist_ok=True)\n",
    "    joblib.dump(xgbc, os.path.join(model.path, \"model.joblib\"))\n",
    "    "
   ]
  },
  {
   "cell_type": "code",
   "execution_count": 14,
   "id": "53b8920c-e05c-489b-81f0-856d41a69706",
   "metadata": {
    "tags": []
   },
   "outputs": [],
   "source": [
    "@component(\n",
    "    packages_to_install=[\"google-cloud-aiplatform==1.25.0\"],\n",
    ")\n",
    "\n",
    "def deploy_xgboost_model(\n",
    "    model: Input[Model],\n",
    "    project_id: str,\n",
    "    vertex_endpoint: Output[Artifact],\n",
    "    vertex_model: Output[Model],\n",
    "):\n",
    "    \"\"\"Deploys an XGBoost model to Vertex AI Endpoint.\n",
    "\n",
    "    Args:\n",
    "        model: The model to deploy.\n",
    "        project_id: The project ID of the Vertex AI Endpoint.\n",
    "\n",
    "    Returns:\n",
    "        vertex_endpoint: The deployed Vertex AI Endpoint.\n",
    "        vertex_model: The deployed Vertex AI Model.\n",
    "    \"\"\"\n",
    "    from google.cloud import aiplatform\n",
    "\n",
    "    aiplatform.init(project=project_id)\n",
    "\n",
    "    deployed_model = aiplatform.Model.upload(\n",
    "        display_name=\"diabetes-demo-model\",\n",
    "        artifact_uri=model.uri,\n",
    "        serving_container_image_uri=\"us-central1-docker.pkg.dev/henry-scien/custom-container-prediction-sdk/xgboost-server-sdk:latest\",\n",
    "    )\n",
    "    endpoint = deployed_model.deploy(machine_type=\"n1-standard-4\")\n",
    "\n",
    "    vertex_endpoint.uri = endpoint.resource_name\n",
    "    vertex_model.uri = deployed_model.resource_name"
   ]
  },
  {
   "cell_type": "code",
   "execution_count": 15,
   "id": "d2dfe84d-3e44-4392-ae96-382ca58dd35c",
   "metadata": {
    "tags": []
   },
   "outputs": [],
   "source": [
    "@dsl.pipeline(\n",
    "    name=\"diabetes-demo-pipeline\",\n",
    ")\n",
    "def pipeline():\n",
    "    url: str = \"https://raw.githubusercontent.com/prins2516/Dataset/main/datasets_228_482_diabetes.csv\"\n",
    "    \"\"\"A demo pipeline.\"\"\"\n",
    "\n",
    "    data_op = get_data(url=url)  # Pass the url as a keyword argument\n",
    "\n",
    "    training_task = xgboost_training(\n",
    "        dataset=data_op.outputs[\"dataset\"],\n",
    "    )\n",
    "\n",
    "    _ = deploy_xgboost_model(\n",
    "        project_id=PROJECT_ID,\n",
    "        model=training_task.outputs[\"model\"],\n",
    "    )"
   ]
  },
  {
   "cell_type": "code",
   "execution_count": 16,
   "id": "631fdf1f-ae73-460f-9c8e-9532c0877724",
   "metadata": {
    "tags": []
   },
   "outputs": [],
   "source": [
    "compiler.Compiler().compile(pipeline_func=pipeline, package_path=\"pipeline_xgboost.yaml\")"
   ]
  },
  {
   "cell_type": "code",
   "execution_count": 17,
   "id": "140f7a8d-6a30-4766-a9b0-840c74851451",
   "metadata": {
    "tags": []
   },
   "outputs": [
    {
     "name": "stdout",
     "output_type": "stream",
     "text": [
      "Creating PipelineJob\n",
      "PipelineJob created. Resource name: projects/523981946985/locations/us-central1/pipelineJobs/diabetes-demo-pipeline-20240717111007\n",
      "To use this PipelineJob in another session:\n",
      "pipeline_job = aiplatform.PipelineJob.get('projects/523981946985/locations/us-central1/pipelineJobs/diabetes-demo-pipeline-20240717111007')\n",
      "View Pipeline Job:\n",
      "https://console.cloud.google.com/vertex-ai/locations/us-central1/pipelines/runs/diabetes-demo-pipeline-20240717111007?project=523981946985\n",
      "PipelineJob projects/523981946985/locations/us-central1/pipelineJobs/diabetes-demo-pipeline-20240717111007 current state:\n",
      "PipelineState.PIPELINE_STATE_RUNNING\n",
      "PipelineJob projects/523981946985/locations/us-central1/pipelineJobs/diabetes-demo-pipeline-20240717111007 current state:\n",
      "PipelineState.PIPELINE_STATE_RUNNING\n",
      "PipelineJob projects/523981946985/locations/us-central1/pipelineJobs/diabetes-demo-pipeline-20240717111007 current state:\n",
      "PipelineState.PIPELINE_STATE_RUNNING\n",
      "PipelineJob projects/523981946985/locations/us-central1/pipelineJobs/diabetes-demo-pipeline-20240717111007 current state:\n",
      "PipelineState.PIPELINE_STATE_RUNNING\n",
      "PipelineJob projects/523981946985/locations/us-central1/pipelineJobs/diabetes-demo-pipeline-20240717111007 current state:\n",
      "PipelineState.PIPELINE_STATE_RUNNING\n",
      "PipelineJob projects/523981946985/locations/us-central1/pipelineJobs/diabetes-demo-pipeline-20240717111007 current state:\n",
      "PipelineState.PIPELINE_STATE_RUNNING\n",
      "PipelineJob projects/523981946985/locations/us-central1/pipelineJobs/diabetes-demo-pipeline-20240717111007 current state:\n",
      "PipelineState.PIPELINE_STATE_RUNNING\n",
      "PipelineJob projects/523981946985/locations/us-central1/pipelineJobs/diabetes-demo-pipeline-20240717111007 current state:\n",
      "PipelineState.PIPELINE_STATE_RUNNING\n",
      "PipelineJob run completed. Resource name: projects/523981946985/locations/us-central1/pipelineJobs/diabetes-demo-pipeline-20240717111007\n"
     ]
    }
   ],
   "source": [
    "job = aiplatform.PipelineJob(\n",
    "    display_name=\"diabetes-demo-pipeline\",\n",
    "    template_path=\"pipeline_xgboost.yaml\",\n",
    "    pipeline_root=PIPELINE_ROOT,\n",
    ")\n",
    "\n",
    "job.run()"
   ]
  },
  {
   "cell_type": "code",
   "execution_count": 19,
   "id": "d2754160-99f8-4189-9b9f-a183510eaa92",
   "metadata": {
    "tags": []
   },
   "outputs": [
    {
     "name": "stdout",
     "output_type": "stream",
     "text": [
      "Access Token: ya29.c.c0ASRK0GbfDBrdhsTbaIHVpSX3-Cj11_Rd-QRcv4joAspuPw4Al6g4wZ8ixVGS7GTgT5Z_aHy4ENnKnGCs6mHIFIRylzYVq-1sXzvAsGjjemokYXP05MfiYZCDieysySdMdkv25OpdyNdcFIdD4c1Y_avMWkc4INwAKAmzzuFaLGajP9vbIoCwV8djok7v64WAVHaD_7RTp2LEuEPojtpTW1ElZVc-9tYOsqyEguvKfjPXEyyaxvA9j-IaqJEh5NMf9lCera0FYWTq-i0ct_b-ldu8Qh97q5hN-7CyUnheRcdLfnP_ALICTZRSA9jE9xFHdzCAClxmyXKndEG_GE46OIUYGDAxtlDG3CzQj8f-kHFZ6xvQmVzLc4oNLm3qLBh_NBkG396AF0pyJy1YxxZh1g7dV2WafbzR6Iw3X9ZS3cQvw67qMRFRoly_1UcyScQZVBalrliQrjnmrjW8S0wYw96kX3to4UOanrxg483rReWMbJpk_yvff5F176tqyO_9R72ik54mjwRUlcX-qcFkivUsF7rsWvJu75qczbFx38Qgngisypm0krsuR5f36J4u4t8VZ-oB6dsoW6wz_RRsml0SWB2viJn_vXp3UBF2QrUJQf_Upz5Fhq8Q-kqyXl_rFognmrudZ5n6OSvlU4lnVbWB91Qv9OcZqv5cf5IXUi0h6tz1Ildje2l2U-kc_iM7noUO4Rh6zlfU2_ZgrScnMiYgZ5xIWaQqyn8guOawXMBjgSosbc7nQ5lOFsrc3ww2w2Or3iIV393RxfyVVU-vWmMomRBbWQbVzoilnsuR_9Zdl75f893M0QfmYtb6ecJzUXXx7Rw3kxOpfuq5orYv36ox11tVO4fF1k36fiO6oS0hZ2xmh10iqpioR8rtm3l8r7p7Ohu4w64i0v-5mcc-arvp_4X9duF4q2h3Onrexkqul9laM-h5oi7Mfh_tzm2xq15OrsWtr2fBuQxi0yJOoo7F6cWlvpad_OMt7lXypsmvfaW4-F85dsm\n"
     ]
    }
   ],
   "source": [
    "from google.auth import default\n",
    "from google.auth.transport.requests import Request\n",
    "\n",
    "# Get default credentials\n",
    "credentials, project_id = default()\n",
    "\n",
    "# Refresh the credentials to get the access token\n",
    "credentials.refresh(Request())\n",
    "token = credentials.token\n",
    "\n",
    "print(f\"Access Token: {token}\")\n"
   ]
  },
  {
   "cell_type": "code",
   "execution_count": 20,
   "id": "e00b1424-f26a-4cb6-909b-6855c1c8de34",
   "metadata": {
    "tags": []
   },
   "outputs": [
    {
     "name": "stdout",
     "output_type": "stream",
     "text": [
      "Predictions: {'predictions': [1], 'deployedModelId': '1066175534733459456', 'model': 'projects/523981946985/locations/us-central1/models/2008228301318914048', 'modelDisplayName': 'diabetes-demo-model', 'modelVersionId': '1'}\n"
     ]
    }
   ],
   "source": [
    "import requests\n",
    "project_id = PROJECT_ID\n",
    "endpoint_id = '6051551470581448704'\n",
    "region = LOCATION\n",
    "endpoint_url = f'https://{region}-aiplatform.googleapis.com/v1/projects/{project_id}/locations/{region}/endpoints/{endpoint_id}:predict'\n",
    "\n",
    "data = {\"instances\":[[6, 140, 72, 35, 0, 33.6, 0.62, 48]]}\n",
    "headers = {\n",
    "    'Authorization': f'Bearer {token}',\n",
    "    'Content-Type': 'application/json'\n",
    "}\n",
    "# Send the request to the endpoint\n",
    "response = requests.post(endpoint_url, headers=headers, json=data)\n",
    "\n",
    "# Handle the response\n",
    "if response.status_code == 200:\n",
    "    predictions = response.json()\n",
    "    print(\"Predictions:\", predictions)\n",
    "else:\n",
    "    print(\"Error:\", response.text)"
   ]
  },
  {
   "cell_type": "code",
   "execution_count": 20,
   "id": "e61b2291-b63a-49bb-87db-a7e2a3ca0200",
   "metadata": {
    "tags": []
   },
   "outputs": [],
   "source": [
    "import xgboost as xgb\n",
    "import numpy as np\n",
    "\n",
    "# Sample input data\n",
    "input_data = {\"instances\":[[6, 140, 72, 35, 0, 33.6, 0.62, 48]]}\n",
    "\n",
    "\n",
    "# Convert input data to DMatrix\n",
    "d_matrix = xgb.DMatrix(input_data)"
   ]
  },
  {
   "cell_type": "code",
   "execution_count": 22,
   "id": "d38a9aa1-821e-43bc-a1e4-c662f2afa228",
   "metadata": {
    "tags": []
   },
   "outputs": [
    {
     "data": {
      "text/plain": [
       "'Bearer ya29.c.c0ASRK0GbfDBrdhsTbaIHVpSX3-Cj11_Rd-QRcv4joAspuPw4Al6g4wZ8ixVGS7GTgT5Z_aHy4ENnKnGCs6mHIFIRylzYVq-1sXzvAsGjjemokYXP05MfiYZCDieysySdMdkv25OpdyNdcFIdD4c1Y_avMWkc4INwAKAmzzuFaLGajP9vbIoCwV8djok7v64WAVHaD_7RTp2LEuEPojtpTW1ElZVc-9tYOsqyEguvKfjPXEyyaxvA9j-IaqJEh5NMf9lCera0FYWTq-i0ct_b-ldu8Qh97q5hN-7CyUnheRcdLfnP_ALICTZRSA9jE9xFHdzCAClxmyXKndEG_GE46OIUYGDAxtlDG3CzQj8f-kHFZ6xvQmVzLc4oNLm3qLBh_NBkG396AF0pyJy1YxxZh1g7dV2WafbzR6Iw3X9ZS3cQvw67qMRFRoly_1UcyScQZVBalrliQrjnmrjW8S0wYw96kX3to4UOanrxg483rReWMbJpk_yvff5F176tqyO_9R72ik54mjwRUlcX-qcFkivUsF7rsWvJu75qczbFx38Qgngisypm0krsuR5f36J4u4t8VZ-oB6dsoW6wz_RRsml0SWB2viJn_vXp3UBF2QrUJQf_Upz5Fhq8Q-kqyXl_rFognmrudZ5n6OSvlU4lnVbWB91Qv9OcZqv5cf5IXUi0h6tz1Ildje2l2U-kc_iM7noUO4Rh6zlfU2_ZgrScnMiYgZ5xIWaQqyn8guOawXMBjgSosbc7nQ5lOFsrc3ww2w2Or3iIV393RxfyVVU-vWmMomRBbWQbVzoilnsuR_9Zdl75f893M0QfmYtb6ecJzUXXx7Rw3kxOpfuq5orYv36ox11tVO4fF1k36fiO6oS0hZ2xmh10iqpioR8rtm3l8r7p7Ohu4w64i0v-5mcc-arvp_4X9duF4q2h3Onrexkqul9laM-h5oi7Mfh_tzm2xq15OrsWtr2fBuQxi0yJOoo7F6cWlvpad_OMt7lXypsmvfaW4-F85dsm'"
      ]
     },
     "execution_count": 22,
     "metadata": {},
     "output_type": "execute_result"
    }
   ],
   "source": [
    "headers['Authorization']"
   ]
  },
  {
   "cell_type": "code",
   "execution_count": null,
   "id": "15af47d9-15a8-4f73-aed1-07b4be29b527",
   "metadata": {},
   "outputs": [],
   "source": []
  }
 ],
 "metadata": {
  "environment": {
   "kernel": "python3",
   "name": "tf2-cpu.2-11.m123",
   "type": "gcloud",
   "uri": "us-docker.pkg.dev/deeplearning-platform-release/gcr.io/tf2-cpu.2-11:m123"
  },
  "kernelspec": {
   "display_name": "Python 3",
   "language": "python",
   "name": "python3"
  },
  "language_info": {
   "codemirror_mode": {
    "name": "ipython",
    "version": 3
   },
   "file_extension": ".py",
   "mimetype": "text/x-python",
   "name": "python",
   "nbconvert_exporter": "python",
   "pygments_lexer": "ipython3",
   "version": "3.10.14"
  }
 },
 "nbformat": 4,
 "nbformat_minor": 5
}
